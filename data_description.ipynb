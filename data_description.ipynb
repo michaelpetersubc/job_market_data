{
 "cells": [
  {
   "cell_type": "code",
   "execution_count": 3,
   "metadata": {},
   "outputs": [],
   "source": [
    "import pandas as pd \n",
    "import os\n",
    "import IPython\n",
    "\n",
    "import json\n",
    "with open(\"to_from_data.json\", \"r\") as read_file:\n",
    "    rankings = json.load(read_file)\n",
    "data = pd.DataFrame(rankings)"
   ]
  },
  {
   "cell_type": "markdown",
   "metadata": {},
   "source": [
    "The data for the current project is contained in the file `to_from_data.json`.  The columns are"
   ]
  },
  {
   "cell_type": "code",
   "execution_count": 7,
   "metadata": {},
   "outputs": [
    {
     "name": "stdout",
     "output_type": "stream",
     "text": [
      "aid\n",
      "to_institution_id\n",
      "to_name\n",
      "to_oid\n",
      "startdate\n",
      "to_latitude\n",
      "to_longitude\n",
      "to_rank\n",
      "from_oid\n",
      "from_institution_id\n",
      "latitude\n",
      "longitude\n",
      "from_institution_name\n",
      "category_id\n",
      "name\n",
      "rank\n"
     ]
    }
   ],
   "source": [
    "for col in data.columns:\n",
    "    print (col)"
   ]
  },
  {
   "cell_type": "markdown",
   "metadata": {},
   "source": [
    "The `aid` is an id number for an applicant.  Associated with this are two collections of information.  The seven fields that follow the id are associated with the institution where the applicant found a job.  There are two id numbers `to_institution_id` and `to_oid`.  The first points to a university whose name is given in text by `to_name`.  The second points to an department or school within the university to distinguish between, say, an economics department and a business school.  The two fields `latitude` and `longitude` are geo-coordinates. The field `to_rank` is a ranking for the destination school.  \n",
    "\n",
    "The ranking covers the top 100 departments and was created at Tilberg University in 2016.\n",
    "\n",
    "The remaining fields, with two exceptions, refer to the university where the applicant graduated and have the same interpretation as above.\n",
    "\n",
    "The two exceptions are `category_id` and `name`. These indicate the applicants primary field and its id number."
   ]
  }
 ],
 "metadata": {
  "kernelspec": {
   "display_name": "Python 3",
   "language": "python",
   "name": "python3"
  },
  "language_info": {
   "codemirror_mode": {
    "name": "ipython",
    "version": 3
   },
   "file_extension": ".py",
   "mimetype": "text/x-python",
   "name": "python",
   "nbconvert_exporter": "python",
   "pygments_lexer": "ipython3",
   "version": "3.7.3"
  }
 },
 "nbformat": 4,
 "nbformat_minor": 4
}
